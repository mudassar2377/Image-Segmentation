{
  "cells": [
    {
      "cell_type": "markdown",
      "metadata": {
        "id": "view-in-github",
        "colab_type": "text"
      },
      "source": [
        "<a href=\"https://colab.research.google.com/github/mudassar2377/Image-Segmentation/blob/main/UNet_Model.ipynb\" target=\"_parent\"><img src=\"https://colab.research.google.com/assets/colab-badge.svg\" alt=\"Open In Colab\"/></a>"
      ]
    },
    {
      "cell_type": "markdown",
      "source": [
        "The cell given below is used to import all required libraries required for the project also a test sample function is also defined in it."
      ],
      "metadata": {
        "id": "YsaRmT-rXA2c"
      }
    },
    {
      "cell_type": "code",
      "source": [
        "import tensorflow as tf\n",
        "import math\n",
        "import os\n",
        "import numpy as np\n",
        "from tensorflow import keras\n",
        "from tensorflow.keras import layers\n",
        "from tensorflow.keras.metrics import MeanIoU\n",
        "from keras.losses import Loss\n",
        "import tensorflow as tf\n",
        "from tensorflow.keras import backend as K\n",
        "\n",
        "# Could not use this function to produce better result so dropped this function\n",
        "class TverskyLoss(tf.keras.losses.Loss):\n",
        "    def __init__(self, alpha=0.5, beta=0.5, smooth=1e-6, **kwargs):\n",
        "        super(TverskyLoss, self).__init__(**kwargs)\n",
        "        self.alpha = alpha\n",
        "        self.beta = beta\n",
        "        self.smooth = smooth\n",
        "\n",
        "    def call(self, y_true, y_pred):\n",
        "        y_true_pos = K.flatten(y_true)\n",
        "        y_pred_pos = K.flatten(y_pred)\n",
        "        true_pos = K.sum(y_true_pos * y_pred_pos)\n",
        "        false_neg = K.sum(y_true_pos * (1 - y_pred_pos))\n",
        "        false_pos = K.sum((1 - y_true_pos) * y_pred_pos)\n",
        "        tversky_coeff = (true_pos + self.smooth) / (\n",
        "                true_pos + self.alpha * false_neg + self.beta * false_pos + self.smooth)\n",
        "        loss = 1 - tversky_coeff\n",
        "        return loss\n",
        "\n",
        "# Register the custom loss function\n",
        "tf.keras.utils.get_custom_objects()['TverskyLoss'] = TverskyLoss\n"
      ],
      "metadata": {
        "id": "5FLz3BEOoU9W"
      },
      "execution_count": null,
      "outputs": []
    },
    {
      "cell_type": "markdown",
      "source": [
        "Creating a UNET model and cheching it's parameters."
      ],
      "metadata": {
        "id": "iu9-6c7FXWEO"
      }
    },
    {
      "cell_type": "code",
      "execution_count": null,
      "metadata": {
        "id": "dlLBBMq4Ipkq"
      },
      "outputs": [],
      "source": [
        "# U-Net architecture for image segmentation\n",
        "def unet(input_shape, num_classes):\n",
        "    inputs = keras.Input(shape=input_shape)\n",
        "\n",
        "    # Encoder\n",
        "    conv1 = layers.Conv2D(64, 3, activation='relu', padding='same')(inputs)\n",
        "    conv1 = layers.Conv2D(64, 3, activation='relu', padding='same')(conv1)\n",
        "    pool1 = layers.MaxPooling2D(pool_size=(2, 2))(conv1)\n",
        "\n",
        "    conv2 = layers.Conv2D(128, 3, activation='relu', padding='same')(pool1)\n",
        "    conv2 = layers.Conv2D(128, 3, activation='relu', padding='same')(conv2)\n",
        "    pool2 = layers.MaxPooling2D(pool_size=(2, 2))(conv2)\n",
        "\n",
        "\n",
        "    conv3 = layers.Conv2D(256, 3, activation='relu', padding='same')(pool2)\n",
        "    conv3 = layers.Conv2D(256, 3, activation='relu', padding='same')(conv3)\n",
        "    pool3 = layers.MaxPooling2D(pool_size=(2, 2))(conv3)\n",
        "    drop3 = layers.Dropout(0.5)(pool3)\n",
        "\n",
        "    conv4 = layers.Conv2D(512, 3, activation='relu', padding='same')(drop3)\n",
        "    conv4 = layers.Conv2D(512, 3, activation='relu', padding='same')(conv4)\n",
        "    pool4 = layers.MaxPooling2D(pool_size=(2, 2))(conv4)\n",
        "\n",
        "    conv5 = layers.Conv2D(1024, 3, activation='relu', padding='same')(pool4)\n",
        "    conv5 = layers.Conv2D(1024, 3, activation='relu', padding='same')(conv5)\n",
        "\n",
        "    drop5 = layers.Dropout(0.5)(conv5)\n",
        "\n",
        "    # Decoder\n",
        "    up6 = layers.Conv2DTranspose(1024, 2, strides=(2, 2), padding='same')(drop5)\n",
        "    up6 = layers.concatenate([up6, conv4], axis=3)\n",
        "    conv6 = layers.Conv2D(512, 3, activation='relu', padding='same')(up6)\n",
        "    conv6 = layers.Conv2D(512, 3, activation='relu', padding='same')(conv6)\n",
        "\n",
        "    up7 = layers.Conv2DTranspose(512, 2, strides=(2, 2), padding='same')(conv6)\n",
        "    up7 = layers.concatenate([up7, conv3], axis=3)\n",
        "    conv7 = layers.Conv2D(256, 3, activation='relu', padding='same')(up7)\n",
        "    conv7 = layers.Conv2D(256, 3, activation='relu', padding='same')(conv7)\n",
        "\n",
        "\n",
        "    up8 = layers.Conv2DTranspose(256, 2, strides=(2, 2), padding='same')(conv7)\n",
        "    up8 = layers.concatenate([up8, conv2], axis=3)\n",
        "    conv8 = layers.Conv2D(128, 3, activation='relu', padding='same')(up8)\n",
        "    conv8 = layers.Conv2D(128, 3, activation='relu', padding='same')(conv8)\n",
        "\n",
        "    up9 = layers.Conv2DTranspose(64, 2, strides=(2, 2), padding='same')(conv8)\n",
        "    up9 = layers.concatenate([up9, conv1], axis=3)\n",
        "    conv9 = layers.Conv2D(64, 3, activation='relu', padding='same')(up9)\n",
        "    conv9 = layers.Conv2D(64, 3, activation='relu', padding='same')(conv9)\n",
        "\n",
        "    # Output layer\n",
        "    outputs = layers.Conv2D(num_classes, 1, activation='softmax')(conv9)\n",
        "\n",
        "    # Create the model\n",
        "    model = keras.Model(inputs=inputs, outputs=outputs)\n",
        "\n",
        "    return model\n",
        "input_shape = (128, 128, 3)\n",
        "num_classes = 12\n",
        "lr = 1e-3\n",
        "model = unet(input_shape, num_classes)\n",
        "model.compile(optimizer=keras.optimizers.Adam(lr),loss='categorical_crossentropy', metrics=MeanIoU(num_classes))\n",
        "model.summary()\n",
        "\n",
        "# The following piece of code is for custom defined function\n",
        "# input_shape = (128, 128, 3)\n",
        "# num_classes = 12\n",
        "# lr = 1e-3\n",
        "# model = unet(input_shape, num_classes)\n",
        "# model.compile(optimizer=keras.optimizers.Adam(lr),loss=TverskyLoss(0.3, 0.7,12), metrics=MeanIoU(num_classes))\n",
        "# model.summary()\n"
      ]
    },
    {
      "cell_type": "markdown",
      "source": [
        "The following cell is training cell it has all certain checkpoints implemented in it to monitor training process."
      ],
      "metadata": {
        "id": "EniH9PjLXe7y"
      }
    },
    {
      "cell_type": "code",
      "source": [
        "from tensorflow.keras.callbacks import ModelCheckpoint, ReduceLROnPlateau\n",
        "\n",
        "# Loading Training Data and labels\n",
        "train_imgs = np.load('/content/drive/MyDrive/DIP Project/train_imgs.npy')\n",
        "train_labels = np.load('/content/drive/MyDrive/DIP Project/train_labels.npy')\n",
        "train_labels = tf.keras.utils.to_categorical(train_labels, num_classes = 12, dtype='float32')\n",
        "\n",
        "# Model Version\n",
        "major_revision, minor_revision = 2,1\n",
        "\n",
        "# Paths\n",
        "model_save_path = '/content/drive/MyDrive/DIP Project/Model'\n",
        "log_save_path = '/content/drive/MyDrive/DIP Project/Log'\n",
        "\n",
        "# Open file to save progress\n",
        "file = open(os.path.join(log_save_path, 'log-%i-%i.txt' % (major_revision, minor_revision)),'a+')\n",
        "file_path = os.path.join(model_save_path, 'm%i-%i.h5' % (major_revision, minor_revision))\n",
        "\n",
        "# Different call backs\n",
        "checkpoints_callback = ModelCheckpoint(file_path , verbose = 1, mode='max', save_best_only=True, save_freq='epoch')\n",
        "text_logging_callback = tf.keras.callbacks.LambdaCallback(\n",
        "                              on_epoch_end=lambda epoch, logs: file.write(' : EPOCH %i\\n' % (epoch + 1) +\n",
        "                              'VALIDATION ACCURACY =%.5f \\n' % logs['val_mean_io_u']))\n",
        "\n",
        "RLR = ReduceLROnPlateau(monitor='mean_io_u', factor=0.2, patience=3, min_lr=1e-9, verbose=1)\n",
        "my_callbacks = [checkpoints_callback, RLR, text_logging_callback]\n",
        "\n",
        "print('Training')\n",
        "tf.keras.backend.clear_session()\n",
        "my_model_history = model.fit(x=train_imgs,y=train_labels,epochs=15,callbacks=my_callbacks,validation_split = 0.2)\n",
        "model.save('/content/drive/MyDrive/DIP Project/Model/sem_proj_model.h5')\n",
        "print('Training Completed')\n",
        "file.close()\n"
      ],
      "metadata": {
        "id": "EW3v22BSHwni",
        "colab": {
          "base_uri": "https://localhost:8080/"
        },
        "outputId": "223c9556-b120-4b21-d1d1-db1b236a6946"
      },
      "execution_count": null,
      "outputs": [
        {
          "output_type": "stream",
          "name": "stdout",
          "text": [
            "Training\n",
            "Epoch 1/15\n",
            "27/27 [==============================] - ETA: 0s - loss: 0.6604 - mean_io_u: 0.5539\n",
            "Epoch 1: val_loss improved from -inf to 0.72664, saving model to /content/drive/MyDrive/DIP Project/Model/m2-1.h5\n",
            "27/27 [==============================] - 33s 960ms/step - loss: 0.6604 - mean_io_u: 0.5539 - val_loss: 0.7266 - val_mean_io_u: 0.5172 - lr: 0.0010\n",
            "Epoch 2/15\n",
            "27/27 [==============================] - ETA: 0s - loss: 0.6109 - mean_io_u: 0.5682\n",
            "Epoch 2: val_loss did not improve from 0.72664\n",
            "27/27 [==============================] - 14s 514ms/step - loss: 0.6109 - mean_io_u: 0.5682 - val_loss: 0.7266 - val_mean_io_u: 0.5172 - lr: 0.0010\n",
            "Epoch 3/15\n",
            "27/27 [==============================] - ETA: 0s - loss: 0.6109 - mean_io_u: 0.5682\n",
            "Epoch 3: val_loss did not improve from 0.72664\n",
            "27/27 [==============================] - 14s 508ms/step - loss: 0.6109 - mean_io_u: 0.5682 - val_loss: 0.7266 - val_mean_io_u: 0.5172 - lr: 0.0010\n",
            "Epoch 4/15\n",
            "27/27 [==============================] - ETA: 0s - loss: 0.6109 - mean_io_u: 0.5682\n",
            "Epoch 4: val_loss did not improve from 0.72664\n",
            "\n",
            "Epoch 4: ReduceLROnPlateau reducing learning rate to 0.00020000000949949026.\n",
            "27/27 [==============================] - 14s 519ms/step - loss: 0.6109 - mean_io_u: 0.5682 - val_loss: 0.7266 - val_mean_io_u: 0.5172 - lr: 0.0010\n",
            "Epoch 5/15\n",
            "27/27 [==============================] - ETA: 0s - loss: 0.6109 - mean_io_u: 0.5682\n",
            "Epoch 5: val_loss did not improve from 0.72664\n",
            "27/27 [==============================] - 14s 514ms/step - loss: 0.6109 - mean_io_u: 0.5682 - val_loss: 0.7266 - val_mean_io_u: 0.5172 - lr: 2.0000e-04\n",
            "Epoch 6/15\n",
            "27/27 [==============================] - ETA: 0s - loss: 0.6109 - mean_io_u: 0.5682\n",
            "Epoch 6: val_loss did not improve from 0.72664\n",
            "27/27 [==============================] - 14s 516ms/step - loss: 0.6109 - mean_io_u: 0.5682 - val_loss: 0.7266 - val_mean_io_u: 0.5172 - lr: 2.0000e-04\n",
            "Epoch 7/15\n",
            "27/27 [==============================] - ETA: 0s - loss: 0.6109 - mean_io_u: 0.5682\n",
            "Epoch 7: val_loss did not improve from 0.72664\n",
            "\n",
            "Epoch 7: ReduceLROnPlateau reducing learning rate to 4.0000001899898055e-05.\n",
            "27/27 [==============================] - 14s 518ms/step - loss: 0.6109 - mean_io_u: 0.5682 - val_loss: 0.7266 - val_mean_io_u: 0.5172 - lr: 2.0000e-04\n",
            "Epoch 8/15\n",
            "27/27 [==============================] - ETA: 0s - loss: 0.6109 - mean_io_u: 0.5682\n",
            "Epoch 8: val_loss did not improve from 0.72664\n",
            "27/27 [==============================] - 14s 528ms/step - loss: 0.6109 - mean_io_u: 0.5682 - val_loss: 0.7266 - val_mean_io_u: 0.5172 - lr: 4.0000e-05\n",
            "Epoch 9/15\n",
            "27/27 [==============================] - ETA: 0s - loss: 0.6109 - mean_io_u: 0.5682\n",
            "Epoch 9: val_loss did not improve from 0.72664\n",
            "27/27 [==============================] - 14s 529ms/step - loss: 0.6109 - mean_io_u: 0.5682 - val_loss: 0.7266 - val_mean_io_u: 0.5172 - lr: 4.0000e-05\n",
            "Epoch 10/15\n",
            "27/27 [==============================] - ETA: 0s - loss: 0.6109 - mean_io_u: 0.5682\n",
            "Epoch 10: val_loss did not improve from 0.72664\n",
            "\n",
            "Epoch 10: ReduceLROnPlateau reducing learning rate to 8.000000525498762e-06.\n",
            "27/27 [==============================] - 14s 525ms/step - loss: 0.6109 - mean_io_u: 0.5682 - val_loss: 0.7266 - val_mean_io_u: 0.5172 - lr: 4.0000e-05\n",
            "Epoch 11/15\n",
            "27/27 [==============================] - ETA: 0s - loss: 0.6109 - mean_io_u: 0.5682\n",
            "Epoch 11: val_loss did not improve from 0.72664\n",
            "27/27 [==============================] - 14s 531ms/step - loss: 0.6109 - mean_io_u: 0.5682 - val_loss: 0.7266 - val_mean_io_u: 0.5172 - lr: 8.0000e-06\n",
            "Epoch 12/15\n",
            "27/27 [==============================] - ETA: 0s - loss: 0.6109 - mean_io_u: 0.5682\n",
            "Epoch 12: val_loss did not improve from 0.72664\n",
            "27/27 [==============================] - 14s 532ms/step - loss: 0.6109 - mean_io_u: 0.5682 - val_loss: 0.7266 - val_mean_io_u: 0.5172 - lr: 8.0000e-06\n",
            "Epoch 13/15\n",
            "27/27 [==============================] - ETA: 0s - loss: 0.6109 - mean_io_u: 0.5682\n",
            "Epoch 13: val_loss did not improve from 0.72664\n",
            "\n",
            "Epoch 13: ReduceLROnPlateau reducing learning rate to 1.6000001778593287e-06.\n",
            "27/27 [==============================] - 14s 533ms/step - loss: 0.6109 - mean_io_u: 0.5682 - val_loss: 0.7266 - val_mean_io_u: 0.5172 - lr: 8.0000e-06\n",
            "Epoch 14/15\n",
            "27/27 [==============================] - ETA: 0s - loss: 0.6109 - mean_io_u: 0.5682\n",
            "Epoch 14: val_loss did not improve from 0.72664\n",
            "27/27 [==============================] - 14s 528ms/step - loss: 0.6109 - mean_io_u: 0.5682 - val_loss: 0.7266 - val_mean_io_u: 0.5172 - lr: 1.6000e-06\n",
            "Epoch 15/15\n",
            "27/27 [==============================] - ETA: 0s - loss: 0.6109 - mean_io_u: 0.5682\n",
            "Epoch 15: val_loss did not improve from 0.72664\n",
            "27/27 [==============================] - 14s 534ms/step - loss: 0.6109 - mean_io_u: 0.5682 - val_loss: 0.7266 - val_mean_io_u: 0.5172 - lr: 1.6000e-06\n"
          ]
        }
      ]
    },
    {
      "cell_type": "markdown",
      "source": [
        "The following cell is to check for test data if our model can produce accurate images or not."
      ],
      "metadata": {
        "id": "NPbS6iPPX2Bm"
      }
    },
    {
      "cell_type": "code",
      "execution_count": null,
      "metadata": {
        "id": "67ux8f9MW-i0"
      },
      "outputs": [],
      "source": [
        "import numpy as np\n",
        "color_to_label = {\n",
        "    0:(108, 0, 115),\n",
        "    1:(145, 1, 122),\n",
        "    2:(216, 47, 148),\n",
        "    3:(254, 246, 242),\n",
        "    4:(181, 9, 130),\n",
        "    5:(236, 85, 157),\n",
        "    6:(73, 0, 106),\n",
        "    7:(248, 123, 168),\n",
        "    8:(0, 0, 0),\n",
        "    9:(127, 255, 255),\n",
        "    10:(127, 255, 142),\n",
        "    11:(255, 127, 127),\n",
        "}\n",
        "\n",
        "def map_colors_to_rgb(image_array):\n",
        "    height, width = image_array.shape[:2]\n",
        "    output_image = np.zeros((height, width, 3), dtype=np.uint8)\n",
        "    for i in range(height):\n",
        "        for j in range(width):\n",
        "            label = image_array[i, j]\n",
        "            if label in color_to_label:\n",
        "                label_value = color_to_label[label]\n",
        "                output_image[i, j] = np.array(label_value, dtype=np.uint8)\n",
        "    return output_image\n"
      ]
    },
    {
      "cell_type": "code",
      "source": [
        "import matplotlib.pyplot as plt\n",
        "from google.colab.patches import cv2_imshow\n",
        "import tensorflow as tf\n",
        "from tensorflow import keras\n",
        "from keras.metrics import MeanIoU\n",
        "from keras.losses import Loss\n",
        "import numpy as np\n",
        "\n",
        "tf.keras.utils.get_custom_objects()['TverskyLoss'] = TverskyLoss\n",
        "test_imgs = np.load('/content/drive/MyDrive/DIP Project/test_imgs.npy')\n",
        "\n",
        "# Load the trained model\n",
        "model = tf.keras.models.load_model('/content/drive/MyDrive/DIP Project/Model/sem_proj_model.h5')\n",
        "\n",
        "for r in range(450):\n",
        "  input_image = test_imgs[r,:,:,:]\n",
        "\n",
        "  input_tensor = tf.keras.preprocessing.image.img_to_array(input_image)\n",
        "  input_tensor = tf.expand_dims(input_tensor, axis=0)\n",
        "\n",
        "  # Make predictions\n",
        "  output_tensor = model.predict(input_tensor)\n",
        "  output_mask = tf.argmax(output_tensor, axis=-1)[0]\n",
        "  output_mask_array = np.array(output_mask)\n",
        "  output_mask_image = map_colors_to_rgb(output_mask_array)\n",
        "  # grd_truth = map_colors_to_rgb(input_image)\n",
        "  cv2_imshow(output_mask_image)\n",
        "  # cv2_imshow(grd_truth)\n",
        "  print(output_mask_image.shape)\n"
      ],
      "metadata": {
        "id": "ZbKgco7_YKNH"
      },
      "execution_count": null,
      "outputs": []
    },
    {
      "cell_type": "code",
      "source": [],
      "metadata": {
        "id": "HK-0sRwiYKZ_"
      },
      "execution_count": null,
      "outputs": []
    },
    {
      "cell_type": "code",
      "source": [],
      "metadata": {
        "id": "bhReGrHbYKdq"
      },
      "execution_count": null,
      "outputs": []
    },
    {
      "cell_type": "code",
      "source": [],
      "metadata": {
        "id": "ysvV2ZKIYKhR"
      },
      "execution_count": null,
      "outputs": []
    },
    {
      "cell_type": "code",
      "source": [],
      "metadata": {
        "id": "LYY1UqVnYKkV"
      },
      "execution_count": null,
      "outputs": []
    },
    {
      "cell_type": "code",
      "source": [],
      "metadata": {
        "id": "uBQPlv_yYKnR"
      },
      "execution_count": null,
      "outputs": []
    },
    {
      "cell_type": "code",
      "source": [],
      "metadata": {
        "id": "J04fCXsEYKqM"
      },
      "execution_count": null,
      "outputs": []
    },
    {
      "cell_type": "code",
      "source": [],
      "metadata": {
        "id": "KcbwRSdoYKtK"
      },
      "execution_count": null,
      "outputs": []
    },
    {
      "cell_type": "code",
      "source": [],
      "metadata": {
        "id": "y3dPSalVYKwT"
      },
      "execution_count": null,
      "outputs": []
    },
    {
      "cell_type": "code",
      "source": [],
      "metadata": {
        "id": "2sSm2GHUYKzL"
      },
      "execution_count": null,
      "outputs": []
    },
    {
      "cell_type": "code",
      "source": [],
      "metadata": {
        "id": "7z50hWeKYK2S"
      },
      "execution_count": null,
      "outputs": []
    },
    {
      "cell_type": "code",
      "source": [],
      "metadata": {
        "id": "omZ5ZWPzYK5G"
      },
      "execution_count": null,
      "outputs": []
    },
    {
      "cell_type": "code",
      "source": [],
      "metadata": {
        "id": "DBFtfqIjYK7r"
      },
      "execution_count": null,
      "outputs": []
    },
    {
      "cell_type": "code",
      "source": [],
      "metadata": {
        "id": "_9HFkbcRYK-n"
      },
      "execution_count": null,
      "outputs": []
    },
    {
      "cell_type": "code",
      "source": [],
      "metadata": {
        "id": "Yp6Bj19cYLBU"
      },
      "execution_count": null,
      "outputs": []
    },
    {
      "cell_type": "code",
      "source": [],
      "metadata": {
        "id": "1uCiTlozYLEG"
      },
      "execution_count": null,
      "outputs": []
    },
    {
      "cell_type": "code",
      "source": [],
      "metadata": {
        "id": "qdd1b0W5YLG3"
      },
      "execution_count": null,
      "outputs": []
    },
    {
      "cell_type": "code",
      "source": [],
      "metadata": {
        "id": "C_lzTMrXYLJr"
      },
      "execution_count": null,
      "outputs": []
    },
    {
      "cell_type": "code",
      "source": [],
      "metadata": {
        "id": "ocKSy1OsYLM3"
      },
      "execution_count": null,
      "outputs": []
    },
    {
      "cell_type": "code",
      "source": [],
      "metadata": {
        "id": "Vqrb2kbbYLPl"
      },
      "execution_count": null,
      "outputs": []
    },
    {
      "cell_type": "code",
      "source": [],
      "metadata": {
        "id": "m9o3AhgHYLST"
      },
      "execution_count": null,
      "outputs": []
    },
    {
      "cell_type": "code",
      "source": [],
      "metadata": {
        "id": "LNdA4eOpYLVT"
      },
      "execution_count": null,
      "outputs": []
    },
    {
      "cell_type": "code",
      "source": [],
      "metadata": {
        "id": "GTtuf1B7YLYW"
      },
      "execution_count": null,
      "outputs": []
    },
    {
      "cell_type": "code",
      "source": [],
      "metadata": {
        "id": "QwIt4FXxYLd8"
      },
      "execution_count": null,
      "outputs": []
    },
    {
      "cell_type": "code",
      "source": [],
      "metadata": {
        "id": "yMwXpI4SYLgw"
      },
      "execution_count": null,
      "outputs": []
    },
    {
      "cell_type": "code",
      "execution_count": null,
      "metadata": {
        "id": "uQcnJ0YsNusq"
      },
      "outputs": [],
      "source": []
    },
    {
      "cell_type": "markdown",
      "source": [
        "A Classification model for different type of eye diseases."
      ],
      "metadata": {
        "id": "Ld_v8QOJYmJQ"
      }
    },
    {
      "cell_type": "code",
      "source": [
        "import numpy as np\n",
        "import tensorflow as tf\n",
        "from tensorflow.keras.models import *\n",
        "from tensorflow.keras.layers import *\n",
        "import os\n",
        "import math\n",
        "from tensorflow.keras import regularizers\n",
        "\n",
        "\n",
        "os.system('clear')\n",
        "\n",
        "# Creating and saving the model\n",
        "inputs=Input(shape=(128,128,3))\n",
        "conv1=Conv2D(16,3,activation='relu',padding='same')(inputs)\n",
        "conv1=BatchNormalization()(conv1)\n",
        "pool1=MaxPooling2D(pool_size=(2,2))(conv1)\n",
        "\n",
        "\n",
        "conv2=Conv2D(32,3,activation='relu',padding='same')(pool1)\n",
        "conv2=BatchNormalization()(conv2)\n",
        "pool2=MaxPooling2D(pool_size=(2,2))(conv2)\n",
        "\n",
        "conv3=Conv2D(64,3,activation='relu',padding='same')(pool2)\n",
        "conv3=BatchNormalization()(conv3)\n",
        "drop3=Dropout(0.5)(conv3)\n",
        "pool3=MaxPooling2D(pool_size=(2,2))(drop3)\n",
        "\n",
        "conv4=Conv2D(128,3,activation='relu',padding='same')(pool3)\n",
        "conv4=BatchNormalization()(conv4)\n",
        "drop4=Dropout(0.5)(conv4)\n",
        "pool4=MaxPooling2D(pool_size=(2,2))(drop4)\n",
        "\n",
        "conv5=Conv2D(256,3,activation='relu',padding='same')(pool4)\n",
        "conv5=BatchNormalization()(conv5)\n",
        "drop5=Dropout(0.5)(conv5)\n",
        "pool5=MaxPooling2D(pool_size=(2,2))(drop5)\n",
        "\n",
        "\n",
        "conv6=Conv2D(512,3,activation='relu',padding='same')(pool5)\n",
        "conv6=BatchNormalization()(conv6)\n",
        "pool6=MaxPooling2D(pool_size=(2,2))(conv6)\n",
        "\n",
        "\n",
        "conv7=Conv2D(1024,3,activation='relu',padding='same')(pool6)\n",
        "conv7=BatchNormalization()(conv7)\n",
        "drop7=Dropout(0.5)(conv7)\n",
        "\n",
        "x = GlobalAveragePooling2D()(drop5)\n",
        "x = Dense(1024,activation = 'relu', name = 'Dense1',dtype='float32')(x)\n",
        "x = Dense(512,activation = 'relu', name = 'Dense2',dtype='float32')(x)\n",
        "x = Dense(256,activation = 'relu', name = 'Dense3',kernel_regularizer=regularizers.l2(0.1),dtype='float32')(x)\n",
        "x = Dense(128,activation = 'relu', name = 'Dense4', dtype='float32')(x)\n",
        "x = Dense(64,activation = 'relu', name = 'Dense5',dtype='float32')(x)\n",
        "x = Dense(32,activation = 'relu', name = 'Dense6', dtype='float32')(x)\n",
        "x = Dense(16,activation = 'relu', name = 'Dense7', dtype='float32')(x)\n",
        "x = Dense(8,activation = 'relu', name = 'Dense8', dtype='float32')(x)\n",
        "x = Dense(3,activation = 'softmax', name = 'output', dtype='float32')(x)\n",
        "\n",
        "mymodel=Model(inputs=inputs,outputs=x)\n",
        "mymodel.compile(optimizer='adam',loss='categorical_crossentropy',metrics=['categorical_accuracy'])\n",
        "mymodel.summary()\n"
      ],
      "metadata": {
        "id": "d25a-Y0AxFlp"
      },
      "execution_count": null,
      "outputs": []
    },
    {
      "cell_type": "code",
      "source": [
        "from tensorflow.keras.callbacks import ModelCheckpoint, ReduceLROnPlateau, EarlyStopping, CSVLogger\n",
        "\n",
        "# Loading Training Data and labels\n",
        "train_imgs = np.load('/content/drive/MyDrive/DIP Project/train_classification_imgs.npy')\n",
        "train_labels = np.load('/content/drive/MyDrive/DIP Project/train_classification_labels.npy')\n",
        "train_labels = tf.keras.utils.to_categorical(train_labels, num_classes = 3, dtype='float32')\n",
        "\n",
        "# Model Version\n",
        "major_revision, minor_revision = 3,1\n",
        "\n",
        "# Paths\n",
        "model_save_path = '/content/drive/MyDrive/DIP Project/Model'\n",
        "log_save_path = '/content/drive/MyDrive/DIP Project/Log'\n",
        "\n",
        "# Open file to save progress\n",
        "file = open(os.path.join(log_save_path, 'log-%i-%i.txt' % (major_revision, minor_revision)),'a+')\n",
        "file_path = os.path.join(model_save_path, 'm%i-%i.h5' % (major_revision, minor_revision))\n",
        "\n",
        "# Different call backs\n",
        "checkpoints_callback = ModelCheckpoint(file_path , verbose = 1, mode='max', save_best_only=True, save_freq='epoch')\n",
        "text_logging_callback = tf.keras.callbacks.LambdaCallback(\n",
        "                              on_epoch_end=lambda epoch, logs: file.write(' : EPOCH %i\\n' % (epoch + 1) +\n",
        "                              'VALIDATION ACCURACY =%.5f \\n' % logs['categorical_accuracy']))\n",
        "\n",
        "RLR = ReduceLROnPlateau(monitor='categorical_accuracy', factor=0.1, patience=3, min_lr=1e-9, verbose=1)\n",
        "my_callbacks = [checkpoi(108, 0, 115nts_callback, RLR, text_logging_callback]\n",
        "\n",
        "print('Training')\n",
        "tf.keras.backend.clear_session()\n",
        "my_model_history = mymodel.fit(x=train_imgs,y=train_labels,epochs=50,callbacks=my_callbacks,validation_split = 0.2)\n",
        "mymodel.save('/content/drive/MyDrive/DIP Project/Model/sem_proj_classification_model.h5')\n",
        "print('Training Completed')\n",
        "file.close()\n"
      ],
      "metadata": {
        "id": "jlPUBFqoxmaw"
      },
      "execution_count": null,
      "outputs": []
    },
    {
      "cell_type": "code",
      "source": [
        "from sklearn.metrics import ConfusionMatrixDisplay\n",
        "from sklearn.metrics import confusion_matrix\n",
        "import numpy as np\n",
        "from sklearn.utils import shuffle\n",
        "import tensorflow as tf\n",
        "from matplotlib import pyplot as plt\n",
        "from os import system\n",
        "\n",
        "class testing:\n",
        "    def _init_(self):\n",
        "        self.testing,self.testing_labels=shuffle(self.testing,self.testing_labels)\n",
        "    def testdata(self):\n",
        "        classes=['BCC','IEC', 'SCC']\n",
        "        mymodel=tf.keras.saving.load_model('/content/drive/MyDrive/DIP Project/Model/sem_proj_classification_model.h5')\n",
        "        testing1 = np.load('/content/drive/MyDrive/DIP Project/test_classification_imgs.npy')\n",
        "        testing_labels1 = np.load('/content/drive/MyDrive/DIP Project/test_classification_labels.npy')\n",
        "        testing_labels1 = tf.keras.utils.to_categorical(testing_labels1, num_classes = 3, dtype='float32')\n",
        "\n",
        "        print(testing1.shape)\n",
        "        print(testing_labels1.shape)\n",
        "        prediction=mymodel.predict(testing1)\n",
        "        print(prediction.shape)\n",
        "        cmd=ConfusionMatrixDisplay((confusion_matrix(np.argmax(testing_labels1,axis=1),np.argmax(prediction,axis=1))),display_labels=classes)\n",
        "        cmd.plot()\n",
        "        plt.show()\n",
        "\n",
        "system('clear')\n",
        "a = testing()\n",
        "a.testdata()"
      ],
      "metadata": {
        "colab": {
          "base_uri": "https://localhost:8080/",
          "height": 518
        },
        "id": "0uTteq9d0RoM",
        "outputId": "fdd644e1-98e2-4fb5-f230-98f7d2e47394"
      },
      "execution_count": null,
      "outputs": [
        {
          "output_type": "stream",
          "name": "stdout",
          "text": [
            "(450, 128, 128, 3)\n",
            "(450, 3)\n",
            "15/15 [==============================] - 0s 6ms/step\n",
            "(450, 3)\n"
          ]
        },
        {
          "output_type": "display_data",
          "data": {
            "text/plain": [
              "<Figure size 640x480 with 2 Axes>"
            ],
            "image/png": "[encoded data removed]"
          },
          "metadata": {}
        }
      ]
    }
  ],
  "metadata": {
    "accelerator": "GPU",
    "colab": {
      "provenance": [],
      "gpuType": "T4",
      "mount_file_id": "1ChS93qvEChsLcjI84QmTLUDCHMhB1fWX",
      "authorship_tag": "ABX9TyPONoivmnvfN05oVubQdRrW",
      "include_colab_link": true
    },
    "kernelspec": {
      "display_name": "Python 3",
      "name": "python3"
    },
    "language_info": {
      "name": "python"
    }
  },
  "nbformat": 4,
  "nbformat_minor": 0
}